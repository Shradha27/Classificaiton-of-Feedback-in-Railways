{
 "cells": [
  {
   "cell_type": "code",
   "execution_count": 1,
   "metadata": {
    "collapsed": true
   },
   "outputs": [],
   "source": [
    "import tweepy"
   ]
  },
  {
   "cell_type": "code",
   "execution_count": null,
   "metadata": {
    "collapsed": true
   },
   "outputs": [],
   "source": [
    "consumer_key=\"b2uDWq9LTwOGWln6l5FvTpeT9\"\n",
    "consumer_secret=\"Y8ua0tnUE3qik3J9FmFcqYMEaQzdvAeGccNYmsrDuFMX29RkT5\"\n",
    "access_token=\"723196595722809345-SncjK4V2KgWljDifS1j526D75heDUdW\"\n",
    "access_token_secret=\"GKf5QwWO30m5PsvuLqWbnEfOZjV7JVWghsfY0Md1aMocv\""
   ]
  }
 ],
 "metadata": {
  "kernelspec": {
   "display_name": "Python 3",
   "language": "python",
   "name": "python3"
  },
  "language_info": {
   "codemirror_mode": {
    "name": "ipython",
    "version": 3
   },
   "file_extension": ".py",
   "mimetype": "text/x-python",
   "name": "python",
   "nbconvert_exporter": "python",
   "pygments_lexer": "ipython3",
   "version": "3.6.3"
  }
 },
 "nbformat": 4,
 "nbformat_minor": 2
}
