{
 "cells": [
  {
   "cell_type": "code",
   "execution_count": 1,
   "metadata": {
    "collapsed": true
   },
   "outputs": [],
   "source": [
    "import tweepy"
   ]
  },
  {
   "cell_type": "code",
   "execution_count": 2,
   "metadata": {},
   "outputs": [
    {
     "name": "stdout",
     "output_type": "stream",
     "text": [
      "RT @Riteishd: It’s a bloody circus. Some of the TV channels have dug new lows for themselves. \n",
      "\n",
      "Let’s give #Sridevi Ji &amp; her family the dig…\n",
      "Why your next phone might contain rare metals from the ocean https://t.co/AzqV8AJtgl\n",
      "Google has received 2.4 million URL removal requests under EU \"right to be forgotten\" laws https://t.co/SS02zMxmpP https://t.co/tvfluRCASg\n",
      "Honouring Dr FaisalKhan, Director of the NoorulIslam Institute of Medical Sciences in Neyyattinkara, for his contri… https://t.co/kOPLbrvJUw\n",
      "#Save Money With Some Fantastic Deals Available Today https://t.co/JIqzblezY6\n",
      "Swedes are at risk of losing access to cash in parts of the country https://t.co/L4aZ8G4AEK https://t.co/S5RA2wzjCM\n",
      "In just one day, you can get a taste of what makes St. Petersburg so compelling https://t.co/g6WrWkzFm7\n",
      "Addressed an all-faith sammelan at the Beemapalli Dargah Sharif Urs alongside leaders of various communities &amp; prea… https://t.co/oZzxFFL7I0\n",
      "Supreme obsessives, there's a second-hand online marketplace just for you https://t.co/0Fh9PxEY4I https://t.co/gtpMf03cAP\n",
      "Groot is definitely dead sorry\n",
      "https://t.co/Cdgnr2Ept3\n",
      "SanDisk's insane 400GB microSD card is now also the world's fastest https://t.co/Y7xHs4suKa https://t.co/oOCODsLKRO\n",
      "Yahoo Japan shares slump after Altaba outlines a plan to sell its stake https://t.co/ycvIlxiIXB https://t.co/2dhdcOmdQV\n",
      "This pocket-sized device is designed to prevent asthma attacks https://t.co/vnSWnmI1G0\n",
      "China is set to crack down a cryptocurrency trading loophole https://t.co/46LwJxeNr7 https://t.co/DiUPURfzCl\n",
      "Our Indian Army completes 3 foot over bridges in 117 days. Three! Kudos!\n",
      "\n",
      "Who feels our Army should look after our… https://t.co/hhOWLmwe0Q\n",
      "Tune in to our #GOESS Social live tomorrow at 11a.m. ET to learn more about one of the most advanced weather satell… https://t.co/QAK7ElfSkv\n",
      "I am only upset I have been referred to as your 'sidekick'. BC tere baap ke Umar ka hoon :-) https://t.co/DsTWj31h5X\n",
      "How to Change the Language in #Microsoft Office 2016 https://t.co/b4bp4j42Ix\n",
      "Hi @SmashingPumpkin, I took the liberty of creating a title/cover for your reunion album. I don’t require payment (… https://t.co/yZL1vlgUIO\n",
      "New to Mac? 10 Simple macOS Routines You Have to Know https://t.co/UNwXRkW1kz\n"
     ]
    }
   ],
   "source": [
    "consumer_key=\"b2uDWq9LTwOGWln6l5FvTpeT9\"\n",
    "consumer_secret=\"Y8ua0tnUE3qik3J9FmFcqYMEaQzdvAeGccNYmsrDuFMX29RkT5\"\n",
    "access_token=\"723196595722809345-SncjK4V2KgWljDifS1j526D75heDUdW\"\n",
    "access_token_secret=\"GKf5QwWO30m5PsvuLqWbnEfOZjV7JVWghsfY0Md1aMocv\"\n",
    "auth = tweepy.OAuthHandler(consumer_key, consumer_secret)\n",
    "auth.set_access_token(access_token, access_token_secret)\n",
    "\n",
    "api = tweepy.API(auth)\n",
    "\n",
    "public_tweets = api.home_timeline()\n",
    "for tweet in public_tweets:\n",
    "    print(tweet.text)"
   ]
  },
  {
   "cell_type": "code",
   "execution_count": 3,
   "metadata": {},
   "outputs": [
    {
     "name": "stdout",
     "output_type": "stream",
     "text": [
      "Twitter\n",
      "62399200\n",
      "TwitterTogether\n",
      "MomentsIndia\n",
      "TwitterMediaJP\n",
      "TwitterAyuda\n",
      "AdsAPI\n",
      "pichette\n",
      "TwitterFashnJP\n",
      "TwitterA11y\n",
      "TwitterComms\n",
      "TwitterSportsCA\n",
      "TwitterVideoIN\n",
      "TwitterREW\n",
      "TwitterAdsHelp\n",
      "TwitterMktgFR\n",
      "JoinTheFlockJP\n",
      "TwitterMktgBR\n",
      "TwitterSportsJP\n",
      "TwitterDevJP\n",
      "TwitterTVJP\n",
      "TwitterMedia\n"
     ]
    }
   ],
   "source": [
    "user = api.get_user('twitter')\n",
    "print(user.screen_name)\n",
    "print(user.followers_count)\n",
    "for friend in user.friends():\n",
    "   print(friend.screen_name)"
   ]
  },
  {
   "cell_type": "code",
   "execution_count": 4,
   "metadata": {},
   "outputs": [
    {
     "name": "stdout",
     "output_type": "stream",
     "text": [
      "psuranas\n",
      "24\n",
      "tim_cook\n",
      "Tesla\n",
      "ShashiTharoor\n",
      "pakalupapito\n",
      "amazon\n",
      "amazonIN\n",
      "UnboxTherapy\n",
      "chetan_bhagat\n",
      "ankitv\n",
      "derekobrienmp\n",
      "MakeUseOf\n",
      "Elise_Andrew\n",
      "btaylor\n",
      "jrochelle\n",
      "swissmiss\n",
      "TheNextWeb\n",
      "sahilparikh\n",
      "rajupp\n",
      "denharsh\n",
      "amitbhawani\n"
     ]
    }
   ],
   "source": [
    "user = api.get_user('psuranas')\n",
    "print(user.screen_name)\n",
    "print(user.followers_count)\n",
    "for friend in user.friends():\n",
    "   print(friend.screen_name)"
   ]
  },
  {
   "cell_type": "code",
   "execution_count": 5,
   "metadata": {},
   "outputs": [
    {
     "name": "stdout",
     "output_type": "stream",
     "text": [
      "User(_api=<tweepy.api.API object at 0x0000020B72364C50>, _json={'id': 723196595722809345, 'id_str': '723196595722809345', 'name': 'Prateek Surana', 'screen_name': 'psuranas', 'location': 'Jaipur, India', 'profile_location': {'id': '3f08724493b18d74', 'url': 'https://api.twitter.com/1.1/geo/id/3f08724493b18d74.json', 'place_type': 'unknown', 'name': 'Jaipur, India', 'full_name': 'Jaipur, India', 'country_code': '', 'country': '', 'contained_within': [], 'bounding_box': None, 'attributes': {}}, 'description': \"I'm an engineering student currently pursuing my btech 2 year from swami keshvanand institute of technology\", 'url': None, 'entities': {'description': {'urls': []}}, 'protected': False, 'followers_count': 24, 'friends_count': 125, 'listed_count': 0, 'created_at': 'Thu Apr 21 17:07:59 +0000 2016', 'favourites_count': 21, 'utc_offset': None, 'time_zone': None, 'geo_enabled': False, 'verified': False, 'statuses_count': 39, 'lang': 'en', 'status': {'created_at': 'Tue Feb 20 12:45:42 +0000 2018', 'id': 965930461892669445, 'id_str': '965930461892669445', 'text': '@Paytmcare I asked that 4 days ago 😒. Anyways I booked my tickets using @bookmyshow and guess what the coupon code… https://t.co/o9tOqflru2', 'truncated': True, 'entities': {'hashtags': [], 'symbols': [], 'user_mentions': [{'screen_name': 'Paytmcare', 'name': 'Paytm Care', 'id': 2475273985, 'id_str': '2475273985', 'indices': [0, 10]}, {'screen_name': 'bookmyshow', 'name': 'BookMyShow', 'id': 10650592, 'id_str': '10650592', 'indices': [72, 83]}], 'urls': [{'url': 'https://t.co/o9tOqflru2', 'expanded_url': 'https://twitter.com/i/web/status/965930461892669445', 'display_url': 'twitter.com/i/web/status/9…', 'indices': [116, 139]}]}, 'source': '<a href=\"http://twitter.com/download/android\" rel=\"nofollow\">Twitter for Android</a>', 'in_reply_to_status_id': 965912050428911616, 'in_reply_to_status_id_str': '965912050428911616', 'in_reply_to_user_id': 2475273985, 'in_reply_to_user_id_str': '2475273985', 'in_reply_to_screen_name': 'Paytmcare', 'geo': None, 'coordinates': None, 'place': None, 'contributors': None, 'is_quote_status': False, 'retweet_count': 0, 'favorite_count': 0, 'favorited': False, 'retweeted': False, 'lang': 'en'}, 'contributors_enabled': False, 'is_translator': False, 'is_translation_enabled': False, 'profile_background_color': 'F5F8FA', 'profile_background_image_url': None, 'profile_background_image_url_https': None, 'profile_background_tile': False, 'profile_image_url': 'http://pbs.twimg.com/profile_images/834995398565588992/QTvwhazT_normal.jpg', 'profile_image_url_https': 'https://pbs.twimg.com/profile_images/834995398565588992/QTvwhazT_normal.jpg', 'profile_link_color': '1DA1F2', 'profile_sidebar_border_color': 'C0DEED', 'profile_sidebar_fill_color': 'DDEEF6', 'profile_text_color': '333333', 'profile_use_background_image': True, 'has_extended_profile': True, 'default_profile': True, 'default_profile_image': False, 'following': False, 'follow_request_sent': False, 'notifications': False, 'translator_type': 'none', 'suspended': False, 'needs_phone_verification': False}, id=723196595722809345, id_str='723196595722809345', name='Prateek Surana', screen_name='psuranas', location='Jaipur, India', profile_location={'id': '3f08724493b18d74', 'url': 'https://api.twitter.com/1.1/geo/id/3f08724493b18d74.json', 'place_type': 'unknown', 'name': 'Jaipur, India', 'full_name': 'Jaipur, India', 'country_code': '', 'country': '', 'contained_within': [], 'bounding_box': None, 'attributes': {}}, description=\"I'm an engineering student currently pursuing my btech 2 year from swami keshvanand institute of technology\", url=None, entities={'description': {'urls': []}}, protected=False, followers_count=24, friends_count=125, listed_count=0, created_at=datetime.datetime(2016, 4, 21, 17, 7, 59), favourites_count=21, utc_offset=None, time_zone=None, geo_enabled=False, verified=False, statuses_count=39, lang='en', status=Status(_api=<tweepy.api.API object at 0x0000020B72364C50>, _json={'created_at': 'Tue Feb 20 12:45:42 +0000 2018', 'id': 965930461892669445, 'id_str': '965930461892669445', 'text': '@Paytmcare I asked that 4 days ago 😒. Anyways I booked my tickets using @bookmyshow and guess what the coupon code… https://t.co/o9tOqflru2', 'truncated': True, 'entities': {'hashtags': [], 'symbols': [], 'user_mentions': [{'screen_name': 'Paytmcare', 'name': 'Paytm Care', 'id': 2475273985, 'id_str': '2475273985', 'indices': [0, 10]}, {'screen_name': 'bookmyshow', 'name': 'BookMyShow', 'id': 10650592, 'id_str': '10650592', 'indices': [72, 83]}], 'urls': [{'url': 'https://t.co/o9tOqflru2', 'expanded_url': 'https://twitter.com/i/web/status/965930461892669445', 'display_url': 'twitter.com/i/web/status/9…', 'indices': [116, 139]}]}, 'source': '<a href=\"http://twitter.com/download/android\" rel=\"nofollow\">Twitter for Android</a>', 'in_reply_to_status_id': 965912050428911616, 'in_reply_to_status_id_str': '965912050428911616', 'in_reply_to_user_id': 2475273985, 'in_reply_to_user_id_str': '2475273985', 'in_reply_to_screen_name': 'Paytmcare', 'geo': None, 'coordinates': None, 'place': None, 'contributors': None, 'is_quote_status': False, 'retweet_count': 0, 'favorite_count': 0, 'favorited': False, 'retweeted': False, 'lang': 'en'}, created_at=datetime.datetime(2018, 2, 20, 12, 45, 42), id=965930461892669445, id_str='965930461892669445', text='@Paytmcare I asked that 4 days ago 😒. Anyways I booked my tickets using @bookmyshow and guess what the coupon code… https://t.co/o9tOqflru2', truncated=True, entities={'hashtags': [], 'symbols': [], 'user_mentions': [{'screen_name': 'Paytmcare', 'name': 'Paytm Care', 'id': 2475273985, 'id_str': '2475273985', 'indices': [0, 10]}, {'screen_name': 'bookmyshow', 'name': 'BookMyShow', 'id': 10650592, 'id_str': '10650592', 'indices': [72, 83]}], 'urls': [{'url': 'https://t.co/o9tOqflru2', 'expanded_url': 'https://twitter.com/i/web/status/965930461892669445', 'display_url': 'twitter.com/i/web/status/9…', 'indices': [116, 139]}]}, source='Twitter for Android', source_url='http://twitter.com/download/android', in_reply_to_status_id=965912050428911616, in_reply_to_status_id_str='965912050428911616', in_reply_to_user_id=2475273985, in_reply_to_user_id_str='2475273985', in_reply_to_screen_name='Paytmcare', geo=None, coordinates=None, place=None, contributors=None, is_quote_status=False, retweet_count=0, favorite_count=0, favorited=False, retweeted=False, lang='en'), contributors_enabled=False, is_translator=False, is_translation_enabled=False, profile_background_color='F5F8FA', profile_background_image_url=None, profile_background_image_url_https=None, profile_background_tile=False, profile_image_url='http://pbs.twimg.com/profile_images/834995398565588992/QTvwhazT_normal.jpg', profile_image_url_https='https://pbs.twimg.com/profile_images/834995398565588992/QTvwhazT_normal.jpg', profile_link_color='1DA1F2', profile_sidebar_border_color='C0DEED', profile_sidebar_fill_color='DDEEF6', profile_text_color='333333', profile_use_background_image=True, has_extended_profile=True, default_profile=True, default_profile_image=False, following=False, follow_request_sent=False, notifications=False, translator_type='none', suspended=False, needs_phone_verification=False)\n"
     ]
    }
   ],
   "source": [
    "user = api.get_user('psuranas')\n",
    "print(user)"
   ]
  },
  {
   "cell_type": "code",
   "execution_count": 7,
   "metadata": {},
   "outputs": [
    {
     "name": "stdout",
     "output_type": "stream",
     "text": [
      "['RT @RailNf: Going down memory lane. Meter Gauge train shunting in Haflong against backdrop of misty Barail ranges. Sweet memories of a glor…', 'Handing over of land documents for  Mumbai-Ahmedabad #HighSpeedRailProject for high speed rail terminal at BKC was… https://t.co/KhsGqQVciV', 'East Central Railways has started testing the first 12000 horse power freight locomotive.\\nhttps://t.co/vha8U8mhpZ', 'Indian Railways to run 500 special trains to clear Holi rush.\\nhttps://t.co/ttxicAExS7', 'Five railway stations in Delhi get Ola Kiosks.\\nhttps://t.co/zbA5kOjWPf', 'Watch: First 12000 HP locomotive for Indian Railways.\\nhttps://t.co/Afp5Sz8jhZ', 'New FOB at Elphinstone Road, built by Indian Army is now open for Mumbaikars.\\nhttps://t.co/KQQ6eUonWG', 'Railway Board gives go-ahead for Kozhikode station expansion project.\\nhttps://t.co/V0CrEjF6uX', \"India's first two intermodal stations will come up in Nagpur and Varanasi at an estimated cost of Rs 200 crore.\\nhttps://t.co/ovCkZFUcAD\", 'Railways Rope In The Common Man To Open Foot-Over-Bridges At Ambivali, Currey Road, Elphinstone Stations.\\nhttps://t.co/ruOeKYMbZn', 'Two Superfast trains from Secunderabad to Patna via Nagpur.\\nhttps://t.co/1Gx8j17Wdw', 'Tiruchi workshop to make two locos for Nilgiri Mountain Railway (NMR)\\nhttps://t.co/nLtEW3gUoJ', 'Indian railways set to get a makeover as coaches to be repainted.\\nhttps://t.co/1REY7AFt8A', 'Western Railway (WR) has restored the timings of two trains that run on heritage Billimora-Waghai narrow gauge line.\\nhttps://t.co/6Gl3u612Dc', 'RT @DDNewsHindi: मुंबई के यात्रियों को रेल व रक्षा मंत्रालय का तोहफा, सेना ने मुंबई में 3 फुटओवर ब्रिज का निर्माण पूर्ण किया। नये फुट ओवर…', 'RT @RailNf: Two more FOBs on the Central line will be thrown open to open public #MumbaiThanksArmy https://t.co/mbcjTaiseA', 'RT @metrorailwaykol: Thanks Army for coming forward to build a new FOB at EPR, 1st of its kind of joint efforts. #MumbaiThanksArmy https://…', 'RT @RailNf: Bustling metropolis Mumbai witnesses a record in three suburban stations as Currey Road, Ambivali&amp;Elphinstone Rd get new Foot O…', 'RT @ECRlyHJP: FOB at Ambivali is 20 metres long and 3.5 mtrs wide FOB has been constructed by Indian Army connecting both the platforms. #M…', 'RT @RailMinIndia: Ambivali FOB is a connecting platform no 1 &amp; 2 on Kasara end; it will help to reduce the congestion on existing FOB and p…']\n"
     ]
    }
   ],
   "source": [
    "def get_tweets(username):\n",
    "         \n",
    "        # Authorization to consumer key and consumer secret\n",
    "#         auth = tweepy.OAuthHandler(consumer_key, consumer_secret)\n",
    " \n",
    "#         # Access to user's access key and access secret\n",
    "#         auth.set_access_token(access_key, access_secret)\n",
    " \n",
    "#         # Calling api\n",
    "#         api = tweepy.API(auth)\n",
    " \n",
    "        # 200 tweets to be extracted\n",
    "        number_of_tweets=200\n",
    "        tweets = api.user_timeline(screen_name=username)\n",
    " \n",
    "        # Empty Array\n",
    "        tmp=[] \n",
    " \n",
    "        # create array of tweet information: username, \n",
    "        # tweet id, date/time, text\n",
    "        tweets_for_csv = [tweet.text for tweet in tweets] # CSV file created \n",
    "        for j in tweets_for_csv:\n",
    " \n",
    "            # Appending tweets to the empty array tmp\n",
    "            tmp.append(j) \n",
    " \n",
    "        # Printing the tweets\n",
    "        print(tmp)\n",
    " \n",
    " \n",
    "# Driver code\n",
    "if __name__ == '__main__':\n",
    " \n",
    "    # Here goes the twitter handle for the user\n",
    "    # whose tweets are to be extracted.\n",
    "    get_tweets(\"RailMinIndia\") \n"
   ]
  },
  {
   "cell_type": "code",
   "execution_count": null,
   "metadata": {
    "collapsed": true
   },
   "outputs": [],
   "source": []
  }
 ],
 "metadata": {
  "kernelspec": {
   "display_name": "Python 3",
   "language": "python",
   "name": "python3"
  },
  "language_info": {
   "codemirror_mode": {
    "name": "ipython",
    "version": 3
   },
   "file_extension": ".py",
   "mimetype": "text/x-python",
   "name": "python",
   "nbconvert_exporter": "python",
   "pygments_lexer": "ipython3",
   "version": "3.6.3"
  }
 },
 "nbformat": 4,
 "nbformat_minor": 2
}
